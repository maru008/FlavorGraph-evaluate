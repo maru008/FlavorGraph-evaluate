{
 "cells": [
  {
   "cell_type": "code",
   "execution_count": 1,
   "metadata": {},
   "outputs": [
    {
     "name": "stderr",
     "output_type": "stream",
     "text": [
      "/Users/naokiyoshimaru/opt/anaconda3/envs/FlavorGraph_env/lib/python3.8/site-packages/tqdm/auto.py:22: TqdmWarning: IProgress not found. Please update jupyter and ipywidgets. See https://ipywidgets.readthedocs.io/en/stable/user_install.html\n",
      "  from .autonotebook import tqdm as notebook_tqdm\n"
     ]
    }
   ],
   "source": [
    "import pandas as pd\n",
    "import re\n",
    "from tqdm import tqdm\n",
    "from bs4 import BeautifulSoup\n",
    "import requests\n",
    "\n",
    "import torch\n",
    "import torch.nn.functional as F\n",
    "\n",
    "import itertools\n",
    "from tabulate import tabulate\n",
    "\n",
    "\n",
    "\n",
    "from unit import node_name2vec"
   ]
  },
  {
   "cell_type": "code",
   "execution_count": 2,
   "metadata": {},
   "outputs": [],
   "source": [
    "data = pd.read_csv(\"classification_data/node_classification_160.csv\")\n",
    "cd = pd.read_csv(\"classification_data/node_classification_hub.csv\")\n",
    "categories = cd.columns"
   ]
  },
  {
   "cell_type": "code",
   "execution_count": 3,
   "metadata": {},
   "outputs": [],
   "source": [
    "food_ls = data[\"ingredient\"]\n",
    "food_ls = [food.replace(\"_\",\" \") for food in food_ls]"
   ]
  },
  {
   "cell_type": "code",
   "execution_count": null,
   "metadata": {},
   "outputs": [],
   "source": []
  },
  {
   "cell_type": "code",
   "execution_count": 118,
   "metadata": {},
   "outputs": [],
   "source": [
    "from googletrans import Translator\n",
    "\n",
    "tr = Translator()\n",
    "trans_food_ls = []\n",
    "for txt in food_ls:\n",
    "    result = tr.translate(txt, src=\"en\", dest=\"ja\").text\n",
    "    trans_food_ls.append(result)\n",
    "data[\"trans_ingredient\"] = trans_food_ls"
   ]
  },
  {
   "cell_type": "code",
   "execution_count": 119,
   "metadata": {},
   "outputs": [
    {
     "name": "stderr",
     "output_type": "stream",
     "text": [
      "160it [02:13,  1.19it/s]\n"
     ]
    }
   ],
   "source": [
    "ptn_1 = '(?<=>).+?(?=<)'\n",
    "\n",
    "col_ls = [\"Kingdom\",\"Clade1\",\"Clade2\",\"Clade3\",\"Clade4\",\"Order\",\"Family\",\"Genus\",\"Species\"]\n",
    "add_df = pd.DataFrame(columns=col_ls)\n",
    "\n",
    "for i, food_i in tqdm(enumerate(data[\"ingredient\"])):\n",
    "    food_i = food_i.replace(\"_\",\" \")\n",
    "    url_i = 'https://en.wikipedia.org/wiki/{}'.format(food_i)\n",
    "    req_i = requests.get(url_i)\n",
    "    soup_i = BeautifulSoup(req_i.content, 'html.parser')\n",
    "    add_ls = []\n",
    "    for n in range(5,13+1):\n",
    "        try:\n",
    "            trg_val = str(soup_i.select('#mw-content-text > div.mw-parser-output > table.infobox.biota > tbody > tr:nth-child({}) > td:nth-child(2) > a'.format(n))[0])\n",
    "            add_ls.append(re.findall(ptn_1,trg_val))\n",
    "        except:\n",
    "            add_ls.append(\"\")\n",
    "    add_df.loc[i] = add_ls\n",
    "data = pd.concat([data, add_df], axis=1)"
   ]
  },
  {
   "cell_type": "code",
   "execution_count": 122,
   "metadata": {},
   "outputs": [],
   "source": [
    "# data.to_csv(\"node_classification_160_wikiCategory.csv\",index=0)\n"
   ]
  },
  {
   "cell_type": "code",
   "execution_count": 180,
   "metadata": {},
   "outputs": [],
   "source": []
  },
  {
   "cell_type": "code",
   "execution_count": 4,
   "metadata": {},
   "outputs": [],
   "source": [
    "data = pd.read_csv(\"classification_data_adv/node_classification_160_wikiCategory.csv\")\n",
    "\n",
    "def cal_cosAVG(file,category,trg_category):\n",
    "    only_category_data = data[data[\"category\"] == category]\n",
    "    only_category_LS = list(only_category_data.groupby(trg_category).count()[\"ingredient\"].index)\n",
    "    rtn_ls = []\n",
    "    for detal_ct in only_category_LS:\n",
    "        \n",
    "        trg_df = only_category_data[only_category_data [trg_category] == detal_ct]\n",
    "        if len(trg_df) <= 1:\n",
    "            pass\n",
    "        else:\n",
    "            food_pair = list(itertools.permutations(trg_df[\"ingredient\"],2))\n",
    "            sum_cos = 0\n",
    "            \n",
    "            for pair_i in food_pair:\n",
    "                a = torch.FloatTensor(node_name2vec(pair_i[0],file))\n",
    "                b = torch.FloatTensor(node_name2vec(pair_i[1],file))\n",
    "                cos_val = F.cosine_similarity(a, b, dim=0)\n",
    "                sum_cos += float(cos_val)\n",
    "            # print(\"{}({}):\".format(detal_ct,len(trg_df)),end=\"\")\n",
    "            avg_i = sum_cos/len(food_pair)\n",
    "            rtn_ls.append(avg_i)\n",
    "    return rtn_ls\n",
    "    print(\"========================\")"
   ]
  },
  {
   "cell_type": "code",
   "execution_count": 23,
   "metadata": {},
   "outputs": [],
   "source": [
    "def create_category_ls(ctg,trg_ctg):\n",
    "    only_category_data = data[data[\"category\"] == ctg]\n",
    "    only_category_LS = list(only_category_data.groupby(trg_ctg).count()[\"ingredient\"].index)\n",
    "    only_category_LS = [i + \"({})\".format(count_row(only_category_data,trg_ctg,i)) for i in only_category_LS]\n",
    "    return only_category_LS\n",
    "def count_row(df,col,ctg):\n",
    "    count_num = df[df[col] == ctg]\n",
    "    return len(count_num)\n",
    "\n",
    "def create_res_table(ctg,trg_ctg):\n",
    "    res_matrix_headers = [\"method\"]\n",
    "    res_matrix_headers.extend(create_category_ls(ctg,trg_ctg))\n",
    "    res_matrix = []\n",
    "    for f in comp_file_ls:\n",
    "        add_ls = [f.replace(\".pickle\",\"\").replace(\"embedding_data/\",\"\")]\n",
    "        add_ls.extend(cal_cosAVG(f,ctg,trg_ctg))\n",
    "        res_matrix.append(add_ls)\n",
    "    result=tabulate(res_matrix, res_matrix_headers, tablefmt=\"grid\")\n",
    "    print(result)\n",
    "    "
   ]
  },
  {
   "cell_type": "markdown",
   "metadata": {},
   "source": [
    "メモ\n",
    "界→門→綱→目→科→属→種"
   ]
  },
  {
   "cell_type": "code",
   "execution_count": 24,
   "metadata": {},
   "outputs": [],
   "source": [
    "comp_file_ls = [\"embedding_data/Metapath2vec_8212.pickle\",\"embedding_data/Metapath2vec+CSP_8212.pickle\",\"embedding_data/Metapath2vec+NPMI_8212.pickle\",\"embedding_data/Metapath2vec+M2V.pickle\",\"embedding_data/Metapath2vec+NPMI+M2V.pickle\"]\n",
    "comp_file_ls = [\"embedding_data/Metapath2vec_8212.pickle\",\"embedding_data/Metapath2vec+CSP_8212.pickle\",\"embedding_data/Metapath2vec+M2V_weighted.pickle\",\"embedding_data/Metapath2vec+NPMI+M2V_weighted.pickle\"]\n",
    "comp_file_ls = [\"embedding_data/Metapath2vec.pickle\",\"embedding_data/Metapath2vec+CSP.pickle\"]\n"
   ]
  },
  {
   "cell_type": "code",
   "execution_count": 25,
   "metadata": {},
   "outputs": [
    {
     "name": "stdout",
     "output_type": "stream",
     "text": [
      "+------------------+-----------------+---------------+---------------+\n",
      "| method           |   Arthropoda(5) |   Chordata(8) |   Mollusca(6) |\n",
      "+==================+=================+===============+===============+\n",
      "| Metapath2vec     |        0.227404 |      0.184539 |      0.134828 |\n",
      "+------------------+-----------------+---------------+---------------+\n",
      "| Metapath2vec+CSP |        0.362868 |      0.349068 |      0.302886 |\n",
      "+------------------+-----------------+---------------+---------------+\n"
     ]
    }
   ],
   "source": [
    "create_res_table(\"Seafood\",\"Clade1\")"
   ]
  },
  {
   "cell_type": "code",
   "execution_count": 26,
   "metadata": {},
   "outputs": [
    {
     "name": "stdout",
     "output_type": "stream",
     "text": [
      "+------------------+--------------------+---------------------+--------------+-------------------+\n",
      "| method           |   Amaranthaceae(1) |   Amaryllidaceae(1) |   Apiales(5) |   Asparagaceae(2) |\n",
      "+==================+====================+=====================+==============+===================+\n",
      "| Metapath2vec     |           0.126404 |           0.0338904 |     0.114588 |          0.136324 |\n",
      "+------------------+--------------------+---------------------+--------------+-------------------+\n",
      "| Metapath2vec+CSP |           0.322097 |           0.248813  |     0.312423 |          0.302182 |\n",
      "+------------------+--------------------+---------------------+--------------+-------------------+\n"
     ]
    }
   ],
   "source": [
    "create_res_table(\"Plant/Vegetable\",\"Order\")"
   ]
  },
  {
   "cell_type": "code",
   "execution_count": 27,
   "metadata": {},
   "outputs": [
    {
     "name": "stdout",
     "output_type": "stream",
     "text": [
      "+------------------+------------------+----------------+---------------------+\n",
      "| method           |   Asparagales(3) |   Asterids(10) |   Caryophyllales(1) |\n",
      "+==================+==================+================+=====================+\n",
      "| Metapath2vec     |        0.0297247 |      0.0820181 |           0.0457285 |\n",
      "+------------------+------------------+----------------+---------------------+\n",
      "| Metapath2vec+CSP |        0.256853  |      0.269473  |           0.263839  |\n",
      "+------------------+------------------+----------------+---------------------+\n"
     ]
    }
   ],
   "source": [
    "create_res_table(\"Plant/Vegetable\",\"Clade4\")"
   ]
  },
  {
   "cell_type": "code",
   "execution_count": 28,
   "metadata": {},
   "outputs": [
    {
     "name": "stdout",
     "output_type": "stream",
     "text": [
      "+------------------+----------------+---------------+\n",
      "| method           |   Eudicots(17) |   Monocots(3) |\n",
      "+==================+================+===============+\n",
      "| Metapath2vec     |      0.0854147 |      0.114437 |\n",
      "+------------------+----------------+---------------+\n",
      "| Metapath2vec+CSP |      0.275211  |      0.293357 |\n",
      "+------------------+----------------+---------------+\n"
     ]
    }
   ],
   "source": [
    "create_res_table(\"Fruit\",\"Clade3\")"
   ]
  },
  {
   "cell_type": "code",
   "execution_count": 29,
   "metadata": {},
   "outputs": [
    {
     "name": "stdout",
     "output_type": "stream",
     "text": [
      "+------------------+---------------+------------------+--------------+\n",
      "| method           |   Asterids(3) |   Commelinids(3) |   Rosids(14) |\n",
      "+==================+===============+==================+==============+\n",
      "| Metapath2vec     |     0.0312105 |         0.114437 |    0.0865651 |\n",
      "+------------------+---------------+------------------+--------------+\n",
      "| Metapath2vec+CSP |     0.244508  |         0.293357 |    0.27427   |\n",
      "+------------------+---------------+------------------+--------------+\n"
     ]
    }
   ],
   "source": [
    "create_res_table(\"Fruit\",\"Clade4\")"
   ]
  },
  {
   "cell_type": "code",
   "execution_count": 30,
   "metadata": {},
   "outputs": [
    {
     "name": "stdout",
     "output_type": "stream",
     "text": [
      "+------------------+---------------+------------------+-------------------+---------------+---------------+\n",
      "| method           |   Arecales(1) |   Brassicales(1) |   Cucurbitales(1) |   Ericales(3) |   Myrtales(2) |\n",
      "+==================+===============+==================+===================+===============+===============+\n",
      "| Metapath2vec     |     0.0312105 |        0.0409995 |          0.173072 |      0.156124 |     0.0536694 |\n",
      "+------------------+---------------+------------------+-------------------+---------------+---------------+\n",
      "| Metapath2vec+CSP |     0.244508  |        0.248578  |          0.357128 |      0.343648 |     0.246771  |\n",
      "+------------------+---------------+------------------+-------------------+---------------+---------------+\n"
     ]
    }
   ],
   "source": [
    "create_res_table(\"Fruit\",\"Order\")"
   ]
  },
  {
   "cell_type": "code",
   "execution_count": 31,
   "metadata": {},
   "outputs": [
    {
     "name": "stdout",
     "output_type": "stream",
     "text": [
      "+------------------+----------------+--------------------+----------------+-------------------+\n",
      "| method           |   Actinidia(1) |   Anacardiaceae(1) |   Arecaceae(1) |   Bromeliaceae(1) |\n",
      "+==================+================+====================+================+===================+\n",
      "| Metapath2vec     |      0.0658397 |           0.173072 |       0.186152 |         0.0536694 |\n",
      "+------------------+----------------+--------------------+----------------+-------------------+\n",
      "| Metapath2vec+CSP |      0.251058  |           0.357128 |       0.369738 |         0.246771  |\n",
      "+------------------+----------------+--------------------+----------------+-------------------+\n"
     ]
    }
   ],
   "source": [
    "create_res_table(\"Fruit\",\"Family\")"
   ]
  },
  {
   "cell_type": "code",
   "execution_count": null,
   "metadata": {},
   "outputs": [],
   "source": []
  }
 ],
 "metadata": {
  "interpreter": {
   "hash": "8b25f5095cf8781a3555149c2517ccf928dc04fb0367fef607f3e335bad9e962"
  },
  "kernelspec": {
   "display_name": "Python 3.8.13 ('FlavorGraph_env')",
   "language": "python",
   "name": "python3"
  },
  "language_info": {
   "codemirror_mode": {
    "name": "ipython",
    "version": 3
   },
   "file_extension": ".py",
   "mimetype": "text/x-python",
   "name": "python",
   "nbconvert_exporter": "python",
   "pygments_lexer": "ipython3",
   "version": "3.8.13"
  },
  "orig_nbformat": 4
 },
 "nbformat": 4,
 "nbformat_minor": 2
}
