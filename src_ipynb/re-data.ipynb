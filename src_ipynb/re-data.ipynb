{
 "cells": [
  {
   "cell_type": "code",
   "execution_count": 2,
   "metadata": {},
   "outputs": [],
   "source": [
    "import pandas as pd \n",
    "import pickle\n"
   ]
  },
  {
   "cell_type": "code",
   "execution_count": 6,
   "metadata": {},
   "outputs": [
    {
     "data": {
      "text/html": [
       "<div>\n",
       "<style scoped>\n",
       "    .dataframe tbody tr th:only-of-type {\n",
       "        vertical-align: middle;\n",
       "    }\n",
       "\n",
       "    .dataframe tbody tr th {\n",
       "        vertical-align: top;\n",
       "    }\n",
       "\n",
       "    .dataframe thead th {\n",
       "        text-align: right;\n",
       "    }\n",
       "</style>\n",
       "<table border=\"1\" class=\"dataframe\">\n",
       "  <thead>\n",
       "    <tr style=\"text-align: right;\">\n",
       "      <th></th>\n",
       "      <th>ingredient</th>\n",
       "    </tr>\n",
       "    <tr>\n",
       "      <th>category</th>\n",
       "      <th></th>\n",
       "    </tr>\n",
       "  </thead>\n",
       "  <tbody>\n",
       "    <tr>\n",
       "      <th>Bakery/Dessert/Snack</th>\n",
       "      <td>20</td>\n",
       "    </tr>\n",
       "    <tr>\n",
       "      <th>Beverage Alcoholic</th>\n",
       "      <td>20</td>\n",
       "    </tr>\n",
       "    <tr>\n",
       "      <th>Cereal/Crop/Bean</th>\n",
       "      <td>20</td>\n",
       "    </tr>\n",
       "    <tr>\n",
       "      <th>Dairy</th>\n",
       "      <td>20</td>\n",
       "    </tr>\n",
       "    <tr>\n",
       "      <th>Fruit</th>\n",
       "      <td>20</td>\n",
       "    </tr>\n",
       "    <tr>\n",
       "      <th>Meat/Animal Product</th>\n",
       "      <td>20</td>\n",
       "    </tr>\n",
       "    <tr>\n",
       "      <th>Plant/Vegetable</th>\n",
       "      <td>20</td>\n",
       "    </tr>\n",
       "    <tr>\n",
       "      <th>Seafood</th>\n",
       "      <td>20</td>\n",
       "    </tr>\n",
       "  </tbody>\n",
       "</table>\n",
       "</div>"
      ],
      "text/plain": [
       "                      ingredient\n",
       "category                        \n",
       "Bakery/Dessert/Snack          20\n",
       "Beverage Alcoholic            20\n",
       "Cereal/Crop/Bean              20\n",
       "Dairy                         20\n",
       "Fruit                         20\n",
       "Meat/Animal Product           20\n",
       "Plant/Vegetable               20\n",
       "Seafood                       20"
      ]
     },
     "execution_count": 6,
     "metadata": {},
     "output_type": "execute_result"
    }
   ],
   "source": [
    "node_data = pd.read_csv(\"../input/nodes_8212.csv\")\n",
    "evaluate_data = pd.read_csv(\"../classification_data/node_classification_160.csv\")\n",
    "evaluate_data.groupby([\"category\"]).count()"
   ]
  },
  {
   "cell_type": "code",
   "execution_count": 4,
   "metadata": {},
   "outputs": [
    {
     "name": "stdout",
     "output_type": "stream",
     "text": [
      "get hub ingredient: 416\n"
     ]
    }
   ],
   "source": [
    "def judge_hub(name):\n",
    "    name = name.replace(\" \",\"_\")\n",
    "    node_name_ls = list(node_data[\"name\"])\n",
    "    judge = False\n",
    "    if name in node_name_ls:\n",
    "        ishub = node_data[node_data[\"name\"] == name][\"is_hub\"].values[0]\n",
    "        if ishub == \"hub\":\n",
    "            judge = True\n",
    "    return judge\n",
    "\n",
    "hub_ing_ls = []\n",
    "hub_ctg_ls = []\n",
    "\n",
    "for ing,ctg in zip(evaluate_data[\"ingredient\"],evaluate_data[\"category\"]):\n",
    "    if judge_hub(ing):\n",
    "        hub_ing_ls.append(ing)\n",
    "        hub_ctg_ls.append(ctg)\n",
    "print(\"get hub ingredient:\",len(hub_ing_ls))\n",
    "classification_hub_data = pd.DataFrame()\n",
    "classification_hub_data[\"ingredient\"] = hub_ing_ls\n",
    "classification_hub_data[\"category\"] = hub_ctg_ls\n",
    "classification_hub_data.to_csv(f\"../classification_data/node_classification_{len(hub_ing_ls)}_hub.csv\",index=None)"
   ]
  },
  {
   "cell_type": "code",
   "execution_count": 6,
   "metadata": {},
   "outputs": [],
   "source": [
    "evaluate_data = evaluate_data[evaluate_data['category'] != \"ETC\"]\n",
    "evaluate_data = evaluate_data[evaluate_data['category'] != \"Dish/End Product\"]\n",
    "evaluate_data = evaluate_data[evaluate_data['category'] != \"Flower\"]\n",
    "\n",
    "evaluate_data.to_csv(\"classification_data/node_classification_{}.csv\".format(len(evaluate_data)),index = 0)"
   ]
  },
  {
   "cell_type": "code",
   "execution_count": 7,
   "metadata": {},
   "outputs": [
    {
     "data": {
      "text/html": [
       "<div>\n",
       "<style scoped>\n",
       "    .dataframe tbody tr th:only-of-type {\n",
       "        vertical-align: middle;\n",
       "    }\n",
       "\n",
       "    .dataframe tbody tr th {\n",
       "        vertical-align: top;\n",
       "    }\n",
       "\n",
       "    .dataframe thead th {\n",
       "        text-align: right;\n",
       "    }\n",
       "</style>\n",
       "<table border=\"1\" class=\"dataframe\">\n",
       "  <thead>\n",
       "    <tr style=\"text-align: right;\">\n",
       "      <th></th>\n",
       "      <th>ingredient</th>\n",
       "    </tr>\n",
       "    <tr>\n",
       "      <th>category</th>\n",
       "      <th></th>\n",
       "    </tr>\n",
       "  </thead>\n",
       "  <tbody>\n",
       "    <tr>\n",
       "      <th>Bakery/Dessert/Snack</th>\n",
       "      <td>38</td>\n",
       "    </tr>\n",
       "    <tr>\n",
       "      <th>Beverage</th>\n",
       "      <td>18</td>\n",
       "    </tr>\n",
       "    <tr>\n",
       "      <th>Beverage Alcoholic</th>\n",
       "      <td>26</td>\n",
       "    </tr>\n",
       "    <tr>\n",
       "      <th>Cereal/Crop/Bean</th>\n",
       "      <td>56</td>\n",
       "    </tr>\n",
       "    <tr>\n",
       "      <th>Dairy</th>\n",
       "      <td>47</td>\n",
       "    </tr>\n",
       "    <tr>\n",
       "      <th>Dish/End Product</th>\n",
       "      <td>16</td>\n",
       "    </tr>\n",
       "    <tr>\n",
       "      <th>Essential Oil/Fat</th>\n",
       "      <td>14</td>\n",
       "    </tr>\n",
       "    <tr>\n",
       "      <th>Fruit</th>\n",
       "      <td>57</td>\n",
       "    </tr>\n",
       "    <tr>\n",
       "      <th>Meat/Animal Product</th>\n",
       "      <td>30</td>\n",
       "    </tr>\n",
       "    <tr>\n",
       "      <th>Nut/Seed</th>\n",
       "      <td>27</td>\n",
       "    </tr>\n",
       "    <tr>\n",
       "      <th>Plant/Vegetable</th>\n",
       "      <td>147</td>\n",
       "    </tr>\n",
       "    <tr>\n",
       "      <th>Sauce/Powder/Dressing</th>\n",
       "      <td>67</td>\n",
       "    </tr>\n",
       "    <tr>\n",
       "      <th>Seafood</th>\n",
       "      <td>35</td>\n",
       "    </tr>\n",
       "    <tr>\n",
       "      <th>Spice</th>\n",
       "      <td>24</td>\n",
       "    </tr>\n",
       "  </tbody>\n",
       "</table>\n",
       "</div>"
      ],
      "text/plain": [
       "                       ingredient\n",
       "category                         \n",
       "Bakery/Dessert/Snack           38\n",
       "Beverage                       18\n",
       "Beverage Alcoholic             26\n",
       "Cereal/Crop/Bean               56\n",
       "Dairy                          47\n",
       "Dish/End Product               16\n",
       "Essential Oil/Fat              14\n",
       "Fruit                          57\n",
       "Meat/Animal Product            30\n",
       "Nut/Seed                       27\n",
       "Plant/Vegetable               147\n",
       "Sauce/Powder/Dressing          67\n",
       "Seafood                        35\n",
       "Spice                          24"
      ]
     },
     "execution_count": 7,
     "metadata": {},
     "output_type": "execute_result"
    }
   ],
   "source": [
    "evaluate_data.groupby([\"category\"]).count()"
   ]
  },
  {
   "cell_type": "code",
   "execution_count": 4,
   "metadata": {},
   "outputs": [],
   "source": [
    "with open(\"/Users/naokiyoshimaru/Desktop/pro-FlavorGraph/input/node2fp_revised_1120.pickle\", \"rb\") as handle:\n",
    "    binary_dict = pickle.load(handle)"
   ]
  },
  {
   "cell_type": "code",
   "execution_count": 8,
   "metadata": {},
   "outputs": [
    {
     "data": {
      "text/plain": [
       "array(None, dtype=object)"
      ]
     },
     "execution_count": 8,
     "metadata": {},
     "output_type": "execute_result"
    }
   ],
   "source": [
    "binary_dict[3338]"
   ]
  },
  {
   "cell_type": "code",
   "execution_count": 21,
   "metadata": {},
   "outputs": [],
   "source": [
    "edge_data = pd.read_csv(\"/Users/naokiyoshimaru/Desktop/pro-FlavorGraph/input/edges_191120.csv\")"
   ]
  },
  {
   "cell_type": "code",
   "execution_count": 23,
   "metadata": {},
   "outputs": [],
   "source": [
    "walk_current = 0\n",
    "n =4733\n",
    "w = edge_data[((edge_data[\"id_1\"] == walk_current) & (edge_data[\"id_2\"] == n)) |((edge_data[\"id_1\"] ==n) & (edge_data[\"id_2\"] == walk_current))]"
   ]
  },
  {
   "cell_type": "code",
   "execution_count": 10,
   "metadata": {},
   "outputs": [],
   "source": [
    "class_hub = pd.read_csv(\"classification_data/node_classification_hub.csv\")\n",
    "categories = class_hub.columns"
   ]
  },
  {
   "cell_type": "code",
   "execution_count": 13,
   "metadata": {},
   "outputs": [],
   "source": [
    "category_ls = []\n",
    "name_ls = []\n",
    "for category in categories:\n",
    "    ingredients = class_hub[category].values\n",
    "    category_ls.extend([category]*len(ingredients))\n",
    "    name_ls.extend(ingredients)\n",
    "classificaton_hub_df = pd.DataFrame()\n",
    "classificaton_hub_df[\"ingredient\"] = name_ls\n",
    "classificaton_hub_df[\"category\"] = category_ls"
   ]
  },
  {
   "cell_type": "code",
   "execution_count": 15,
   "metadata": {},
   "outputs": [],
   "source": [
    "classificaton_hub_df.to_csv(\"node_classification_160.csv\",index=0)"
   ]
  },
  {
   "cell_type": "code",
   "execution_count": 21,
   "metadata": {},
   "outputs": [],
   "source": [
    "def node_name2vec(name,file):\n",
    "    with open(file, \"rb\") as pickle_file:\n",
    "        vectors = pickle.load(pickle_file)\n",
    "    node_data = pd.read_csv(\"input/nodes_8212.csv\")\n",
    "    id = str(node_data[node_data[\"name\"] == name][\"node_id\"].values[0])\n",
    "    vec = vectors[id]\n",
    "    return vec"
   ]
  },
  {
   "cell_type": "code",
   "execution_count": null,
   "metadata": {},
   "outputs": [],
   "source": []
  },
  {
   "cell_type": "code",
   "execution_count": null,
   "metadata": {},
   "outputs": [],
   "source": []
  },
  {
   "cell_type": "code",
   "execution_count": 5,
   "metadata": {},
   "outputs": [],
   "source": []
  },
  {
   "cell_type": "code",
   "execution_count": 16,
   "metadata": {},
   "outputs": [
    {
     "data": {
      "text/html": [
       "<div>\n",
       "<style scoped>\n",
       "    .dataframe tbody tr th:only-of-type {\n",
       "        vertical-align: middle;\n",
       "    }\n",
       "\n",
       "    .dataframe tbody tr th {\n",
       "        vertical-align: top;\n",
       "    }\n",
       "\n",
       "    .dataframe thead th {\n",
       "        text-align: right;\n",
       "    }\n",
       "</style>\n",
       "<table border=\"1\" class=\"dataframe\">\n",
       "  <thead>\n",
       "    <tr style=\"text-align: right;\">\n",
       "      <th></th>\n",
       "      <th>node_id</th>\n",
       "      <th>name</th>\n",
       "      <th>id</th>\n",
       "      <th>is_hub</th>\n",
       "    </tr>\n",
       "    <tr>\n",
       "      <th>node_type</th>\n",
       "      <th></th>\n",
       "      <th></th>\n",
       "      <th></th>\n",
       "      <th></th>\n",
       "    </tr>\n",
       "  </thead>\n",
       "  <tbody>\n",
       "    <tr>\n",
       "      <th>compound</th>\n",
       "      <td>1559</td>\n",
       "      <td>1559</td>\n",
       "      <td>1559</td>\n",
       "      <td>1559</td>\n",
       "    </tr>\n",
       "    <tr>\n",
       "      <th>ingredient</th>\n",
       "      <td>6653</td>\n",
       "      <td>6652</td>\n",
       "      <td>0</td>\n",
       "      <td>6653</td>\n",
       "    </tr>\n",
       "  </tbody>\n",
       "</table>\n",
       "</div>"
      ],
      "text/plain": [
       "            node_id  name    id  is_hub\n",
       "node_type                              \n",
       "compound       1559  1559  1559    1559\n",
       "ingredient     6653  6652     0    6653"
      ]
     },
     "execution_count": 16,
     "metadata": {},
     "output_type": "execute_result"
    }
   ],
   "source": [
    "node_data.groupby([\"node_type\"]).count()"
   ]
  },
  {
   "cell_type": "code",
   "execution_count": 8,
   "metadata": {},
   "outputs": [],
   "source": [
    "edge_data = pd.read_csv(\"../input/edges_146498.csv\")"
   ]
  },
  {
   "cell_type": "code",
   "execution_count": 11,
   "metadata": {},
   "outputs": [
    {
     "data": {
      "text/html": [
       "<div>\n",
       "<style scoped>\n",
       "    .dataframe tbody tr th:only-of-type {\n",
       "        vertical-align: middle;\n",
       "    }\n",
       "\n",
       "    .dataframe tbody tr th {\n",
       "        vertical-align: top;\n",
       "    }\n",
       "\n",
       "    .dataframe thead th {\n",
       "        text-align: right;\n",
       "    }\n",
       "</style>\n",
       "<table border=\"1\" class=\"dataframe\">\n",
       "  <thead>\n",
       "    <tr style=\"text-align: right;\">\n",
       "      <th></th>\n",
       "      <th>id_1</th>\n",
       "      <th>id_2</th>\n",
       "      <th>score</th>\n",
       "    </tr>\n",
       "    <tr>\n",
       "      <th>edge_type</th>\n",
       "      <th></th>\n",
       "      <th></th>\n",
       "      <th></th>\n",
       "    </tr>\n",
       "  </thead>\n",
       "  <tbody>\n",
       "    <tr>\n",
       "      <th>ingr-dcomp</th>\n",
       "      <td>199</td>\n",
       "      <td>199</td>\n",
       "      <td>0</td>\n",
       "    </tr>\n",
       "    <tr>\n",
       "      <th>ingr-fcomp</th>\n",
       "      <td>34944</td>\n",
       "      <td>34944</td>\n",
       "      <td>0</td>\n",
       "    </tr>\n",
       "    <tr>\n",
       "      <th>ingr-ingr</th>\n",
       "      <td>111355</td>\n",
       "      <td>111355</td>\n",
       "      <td>111355</td>\n",
       "    </tr>\n",
       "  </tbody>\n",
       "</table>\n",
       "</div>"
      ],
      "text/plain": [
       "              id_1    id_2   score\n",
       "edge_type                         \n",
       "ingr-dcomp     199     199       0\n",
       "ingr-fcomp   34944   34944       0\n",
       "ingr-ingr   111355  111355  111355"
      ]
     },
     "execution_count": 11,
     "metadata": {},
     "output_type": "execute_result"
    }
   ],
   "source": [
    "edge_data.groupby('edge_type').count()"
   ]
  },
  {
   "cell_type": "code",
   "execution_count": 14,
   "metadata": {},
   "outputs": [
    {
     "data": {
      "text/plain": [
       "8212"
      ]
     },
     "execution_count": 14,
     "metadata": {},
     "output_type": "execute_result"
    }
   ],
   "source": [
    "len(node_data)"
   ]
  },
  {
   "cell_type": "code",
   "execution_count": 15,
   "metadata": {},
   "outputs": [
    {
     "data": {
      "text/plain": [
       "1559"
      ]
     },
     "execution_count": 15,
     "metadata": {},
     "output_type": "execute_result"
    }
   ],
   "source": [
    "1545 + 14"
   ]
  },
  {
   "cell_type": "code",
   "execution_count": null,
   "metadata": {},
   "outputs": [],
   "source": []
  }
 ],
 "metadata": {
  "interpreter": {
   "hash": "8b25f5095cf8781a3555149c2517ccf928dc04fb0367fef607f3e335bad9e962"
  },
  "kernelspec": {
   "display_name": "Python 3.8.13 ('FlavorGraph_env')",
   "language": "python",
   "name": "python3"
  },
  "language_info": {
   "codemirror_mode": {
    "name": "ipython",
    "version": 3
   },
   "file_extension": ".py",
   "mimetype": "text/x-python",
   "name": "python",
   "nbconvert_exporter": "python",
   "pygments_lexer": "ipython3",
   "version": "3.8.13"
  },
  "orig_nbformat": 4
 },
 "nbformat": 4,
 "nbformat_minor": 2
}
